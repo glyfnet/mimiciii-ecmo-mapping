{
 "cells": [
  {
   "cell_type": "code",
   "execution_count": 1,
   "metadata": {},
   "outputs": [],
   "source": [
    "#!pip install pyathena"
   ]
  },
  {
   "cell_type": "code",
   "execution_count": 2,
   "metadata": {},
   "outputs": [],
   "source": [
    "from pyathena import connect\n",
    "import pandas as pd\n",
    "import yaml\n",
    "\n",
    "S3_RESULTS_PATH='s3://ecmo-athena-query-grr/results/'\n",
    "REGION='ap-southeast-2'\n",
    "\n",
    "athena = connect(s3_staging_dir=S3_RESULTS_PATH, region_name=REGION)"
   ]
  },
  {
   "cell_type": "code",
   "execution_count": 3,
   "metadata": {},
   "outputs": [
    {
     "data": {
      "text/plain": [
       "{'chroniccard_mhyn': [10000],\n",
       " 'chronicpul_mhyn': [10000],\n",
       " 'asthma_mhyn': [10000],\n",
       " 'renal_mhyn': [10000],\n",
       " 'modliver_mhyn': [10000],\n",
       " 'mildliv_mhyn': [10000],\n",
       " 'chronicneu_mhyn': [10000],\n",
       " 'malignantneo_mhyn': [10000],\n",
       " 'chronhaemo_mhyn': [10000],\n",
       " 'aidshiv_mhyn': [10000],\n",
       " 'obesity_mhyn': [10000],\n",
       " 'diabetiscomp_mhyn': [10000],\n",
       " 'diabetes_mhyn': [10000],\n",
       " 'rheumatology_mhyr': [10000],\n",
       " 'dementia_mhyn': [10000],\n",
       " 'malnutrition_mhyn': [10000],\n",
       " 'smoker': [3051],\n",
       " 'former_smoker': ['V1582']}"
      ]
     },
     "execution_count": 3,
     "metadata": {},
     "output_type": "execute_result"
    }
   ],
   "source": [
    "# TODO ICD9 codes needed for each condition below\n",
    "icd9_mappings = yaml.safe_load('''\n",
    "    chroniccard_mhyn: \n",
    "        - 10000\n",
    "    chronicpul_mhyn:\n",
    "        - 10000\n",
    "    asthma_mhyn:\n",
    "        - 10000\n",
    "    renal_mhyn:\n",
    "        - 10000\n",
    "    modliver_mhyn:\n",
    "        - 10000\n",
    "    mildliv_mhyn:\n",
    "        - 10000\n",
    "    chronicneu_mhyn: \n",
    "        - 10000\n",
    "    malignantneo_mhyn:\n",
    "        - 10000\n",
    "    chronhaemo_mhyn:\n",
    "        - 10000 \n",
    "    aidshiv_mhyn:\n",
    "        - 10000\n",
    "    obesity_mhyn:   \n",
    "        - 10000\n",
    "    diabetiscomp_mhyn: \n",
    "        - 10000\n",
    "    diabetes_mhyn:\n",
    "        - 10000\n",
    "    rheumatology_mhyr:\n",
    "        - 10000\n",
    "    dementia_mhyn:\n",
    "        - 10000\n",
    "    malnutrition_mhyn:\n",
    "        - 10000\n",
    "    smoker:\n",
    "        - 3051\n",
    "    former_smoker:\n",
    "        - V1582\n",
    "''')\n",
    "\n",
    "icd9_mappings"
   ]
  },
  {
   "cell_type": "code",
   "execution_count": 4,
   "metadata": {},
   "outputs": [
    {
     "name": "stdout",
     "output_type": "stream",
     "text": [
      "WITH \n",
      "icd9_mapping AS (\n",
      "  SELECT \n",
      "  subject_id,\n",
      "  bool_or(icd9_code IN ('10000')) AS chroniccard_mhyn,\n",
      "  bool_or(icd9_code IN ('10000')) AS chronicpul_mhyn,\n",
      "  bool_or(icd9_code IN ('10000')) AS asthma_mhyn,\n",
      "  bool_or(icd9_code IN ('10000')) AS renal_mhyn,\n",
      "  bool_or(icd9_code IN ('10000')) AS modliver_mhyn,\n",
      "  bool_or(icd9_code IN ('10000')) AS mildliv_mhyn,\n",
      "  bool_or(icd9_code IN ('10000')) AS chronicneu_mhyn,\n",
      "  bool_or(icd9_code IN ('10000')) AS malignantneo_mhyn,\n",
      "  bool_or(icd9_code IN ('10000')) AS chronhaemo_mhyn,\n",
      "  bool_or(icd9_code IN ('10000')) AS aidshiv_mhyn,\n",
      "  bool_or(icd9_code IN ('10000')) AS obesity_mhyn,\n",
      "  bool_or(icd9_code IN ('10000')) AS diabetiscomp_mhyn,\n",
      "  bool_or(icd9_code IN ('10000')) AS diabetes_mhyn,\n",
      "  bool_or(icd9_code IN ('10000')) AS rheumatology_mhyr,\n",
      "  bool_or(icd9_code IN ('10000')) AS dementia_mhyn,\n",
      "  bool_or(icd9_code IN ('10000')) AS malnutrition_mhyn,\n",
      "  bool_or(icd9_code IN ('3051')) AS smoker,\n",
      "  bool_or(icd9_code IN ('V1582')) AS former_smoker,\n",
      "  bool_or(icd9_code NOT IN ('10000', '10000', '10000', '10000', '10000', '10000', '10000', '10000', '10000', '10000', '10000', '10000', '10000', '10000', '10000', '10000', '3051', 'V1582')) AS other_mhyn,\n",
      "  filter(array_agg(icd9_code), x -> x NOT IN ('10000', '10000', '10000', '10000', '10000', '10000', '10000', '10000', '10000', '10000', '10000', '10000', '10000', '10000', '10000', '10000', '3051', 'V1582')) AS otherrisktext\n",
      "  FROM diagnoses_icd\n",
      "  GROUP BY subject_id\n",
      "),\n",
      "comorbidities AS (\n",
      "  SELECT \n",
      "  subject_id, chroniccard_mhyn, chronicpul_mhyn, asthma_mhyn, renal_mhyn, modliver_mhyn, mildliv_mhyn, chronicneu_mhyn, malignantneo_mhyn, chronhaemo_mhyn, aidshiv_mhyn, obesity_mhyn, diabetiscomp_mhyn, diabetes_mhyn, rheumatology_mhyr, dementia_mhyn, malnutrition_mhyn, other_mhyn,\n",
      "  CASE\n",
      "    WHEN smoker = true THEN 1\n",
      "    WHEN former_smoker = true THEN 3\n",
      "    ELSE 2\n",
      "  END AS smoking_mhynfrom,\n",
      "  otherrisktext      \n",
      "  FROM icd9_mapping\n",
      ")\n",
      "SELECT * from comorbidities\n"
     ]
    }
   ],
   "source": [
    "icd9_expressions = {column: ','.join([f\"'{v}'\" for v in values]) for column, values in icd9_mappings.items()}\n",
    "icd9_expression = ',\\n  '.join([f'bool_or(icd9_code IN ({expression})) AS {column}' for column, expression in icd9_expressions.items()])\n",
    "mapped_icd9_expression = ', '.join([', '.join([f\"'{v}'\" for v in values]) for values in icd9_mappings.values()])\n",
    "visible_column_names = ', '.join([c for c in icd9_mappings if c not in ['smoker', 'former_smoker']])\n",
    "\n",
    "icd9_mapping_sql = f'''\n",
    "icd9_mapping AS (\n",
    "  SELECT \n",
    "  subject_id,\n",
    "  {icd9_expression},\n",
    "  bool_or(icd9_code NOT IN ({mapped_icd9_expression})) AS other_mhyn,\n",
    "  filter(array_agg(icd9_code), x -> x NOT IN ({mapped_icd9_expression})) AS otherrisktext\n",
    "  FROM diagnoses_icd\n",
    "  GROUP BY subject_id\n",
    "),\n",
    "comorbidities AS (\n",
    "  SELECT \n",
    "  subject_id, {visible_column_names}, other_mhyn,\n",
    "  CASE\n",
    "    WHEN smoker = true THEN 1\n",
    "    WHEN former_smoker = true THEN 3\n",
    "    ELSE 2\n",
    "  END AS smoking_mhynfrom,\n",
    "  otherrisktext      \n",
    "  FROM icd9_mapping\n",
    ")'''\n",
    "\n",
    "'''icd9_unmapped AS (\n",
    "    SELECT \n",
    "    subject_id,\n",
    "    array_agg(icd9_code) AS otherrisktext,\n",
    "    FROM diagnoses_icd\n",
    "    WHERE icd9_code NOT IN ({mapped_icd9_expression})\n",
    "    GROUP BY subject_id\n",
    ")'''\n",
    "\n",
    "\n",
    "comorbidities_sql = f'''WITH {icd9_mapping_sql}\n",
    "SELECT * from comorbidities'''\n",
    "\n",
    "print(comorbidities_sql)"
   ]
  },
  {
   "cell_type": "code",
   "execution_count": 6,
   "metadata": {},
   "outputs": [
    {
     "ename": "DatabaseError",
     "evalue": "Execution failed on sql: WITH \nicd9_mapping AS (\n  SELECT \n  subject_id,\n  bool_or(icd9_code IN ('10000')) AS chroniccard_mhyn,\n  bool_or(icd9_code IN ('10000')) AS chronicpul_mhyn,\n  bool_or(icd9_code IN ('10000')) AS asthma_mhyn,\n  bool_or(icd9_code IN ('10000')) AS renal_mhyn,\n  bool_or(icd9_code IN ('10000')) AS modliver_mhyn,\n  bool_or(icd9_code IN ('10000')) AS mildliv_mhyn,\n  bool_or(icd9_code IN ('10000')) AS chronicneu_mhyn,\n  bool_or(icd9_code IN ('10000')) AS malignantneo_mhyn,\n  bool_or(icd9_code IN ('10000')) AS chronhaemo_mhyn,\n  bool_or(icd9_code IN ('10000')) AS aidshiv_mhyn,\n  bool_or(icd9_code IN ('10000')) AS obesity_mhyn,\n  bool_or(icd9_code IN ('10000')) AS diabetiscomp_mhyn,\n  bool_or(icd9_code IN ('10000')) AS diabetes_mhyn,\n  bool_or(icd9_code IN ('10000')) AS rheumatology_mhyr,\n  bool_or(icd9_code IN ('10000')) AS dementia_mhyn,\n  bool_or(icd9_code IN ('10000')) AS malnutrition_mhyn,\n  bool_or(icd9_code IN ('3051')) AS smoker,\n  bool_or(icd9_code IN ('V1582')) AS former_smoker,\n  bool_or(icd9_code NOT IN ('10000', '10000', '10000', '10000', '10000', '10000', '10000', '10000', '10000', '10000', '10000', '10000', '10000', '10000', '10000', '10000', '3051', 'V1582')) AS other_mhyn,\n  filter(array_agg(icd9_code), x -> x NOT IN ('10000', '10000', '10000', '10000', '10000', '10000', '10000', '10000', '10000', '10000', '10000', '10000', '10000', '10000', '10000', '10000', '3051', 'V1582')) AS otherrisktext\n  FROM diagnoses_icd\n  GROUP BY subject_id\n),\ncomorbidities AS (\n  SELECT \n  subject_id, chroniccard_mhyn, chronicpul_mhyn, asthma_mhyn, renal_mhyn, modliver_mhyn, mildliv_mhyn, chronicneu_mhyn, malignantneo_mhyn, chronhaemo_mhyn, aidshiv_mhyn, obesity_mhyn, diabetiscomp_mhyn, diabetes_mhyn, rheumatology_mhyr, dementia_mhyn, malnutrition_mhyn, other_mhyn,\n  CASE\n    WHEN smoker = true THEN 1\n    WHEN former_smoker = true THEN 3\n    ELSE 2\n  END AS smoking_mhynfrom,\n  otherrisktext      \n  FROM icd9_mapping\n)\nSELECT * from comorbidities\nSYNTAX_ERROR: line 25:8: Table awsdatacatalog.default.diagnoses_icd does not exist\nunable to rollback",
     "output_type": "error",
     "traceback": [
      "\u001b[0;31m---------------------------------------------------------------------------\u001b[0m",
      "\u001b[0;31mOperationalError\u001b[0m                          Traceback (most recent call last)",
      "\u001b[0;32m~/anaconda3/envs/python3/lib/python3.6/site-packages/pandas/io/sql.py\u001b[0m in \u001b[0;36mexecute\u001b[0;34m(self, *args, **kwargs)\u001b[0m\n\u001b[1;32m   1430\u001b[0m             \u001b[0;32melse\u001b[0m\u001b[0;34m:\u001b[0m\u001b[0;34m\u001b[0m\u001b[0m\n\u001b[0;32m-> 1431\u001b[0;31m                 \u001b[0mcur\u001b[0m\u001b[0;34m.\u001b[0m\u001b[0mexecute\u001b[0m\u001b[0;34m(\u001b[0m\u001b[0;34m*\u001b[0m\u001b[0margs\u001b[0m\u001b[0;34m)\u001b[0m\u001b[0;34m\u001b[0m\u001b[0m\n\u001b[0m\u001b[1;32m   1432\u001b[0m             \u001b[0;32mreturn\u001b[0m \u001b[0mcur\u001b[0m\u001b[0;34m\u001b[0m\u001b[0m\n",
      "\u001b[0;32m~/anaconda3/envs/python3/lib/python3.6/site-packages/pyathena/util.py\u001b[0m in \u001b[0;36m_wrapper\u001b[0;34m(*args, **kwargs)\u001b[0m\n\u001b[1;32m    184\u001b[0m         \u001b[0;32mwith\u001b[0m \u001b[0m_lock\u001b[0m\u001b[0;34m:\u001b[0m\u001b[0;34m\u001b[0m\u001b[0m\n\u001b[0;32m--> 185\u001b[0;31m             \u001b[0;32mreturn\u001b[0m \u001b[0mwrapped\u001b[0m\u001b[0;34m(\u001b[0m\u001b[0;34m*\u001b[0m\u001b[0margs\u001b[0m\u001b[0;34m,\u001b[0m \u001b[0;34m**\u001b[0m\u001b[0mkwargs\u001b[0m\u001b[0;34m)\u001b[0m\u001b[0;34m\u001b[0m\u001b[0m\n\u001b[0m\u001b[1;32m    186\u001b[0m     \u001b[0;32mreturn\u001b[0m \u001b[0m_wrapper\u001b[0m\u001b[0;34m\u001b[0m\u001b[0m\n",
      "\u001b[0;32m~/anaconda3/envs/python3/lib/python3.6/site-packages/pyathena/cursor.py\u001b[0m in \u001b[0;36mexecute\u001b[0;34m(self, operation, parameters, work_group, s3_staging_dir, cache_size)\u001b[0m\n\u001b[1;32m     56\u001b[0m         \u001b[0;32melse\u001b[0m\u001b[0;34m:\u001b[0m\u001b[0;34m\u001b[0m\u001b[0m\n\u001b[0;32m---> 57\u001b[0;31m             \u001b[0;32mraise\u001b[0m \u001b[0mOperationalError\u001b[0m\u001b[0;34m(\u001b[0m\u001b[0mquery_execution\u001b[0m\u001b[0;34m.\u001b[0m\u001b[0mstate_change_reason\u001b[0m\u001b[0;34m)\u001b[0m\u001b[0;34m\u001b[0m\u001b[0m\n\u001b[0m\u001b[1;32m     58\u001b[0m         \u001b[0;32mreturn\u001b[0m \u001b[0mself\u001b[0m\u001b[0;34m\u001b[0m\u001b[0m\n",
      "\u001b[0;31mOperationalError\u001b[0m: SYNTAX_ERROR: line 25:8: Table awsdatacatalog.default.diagnoses_icd does not exist",
      "\nDuring handling of the above exception, another exception occurred:\n",
      "\u001b[0;31mNotSupportedError\u001b[0m                         Traceback (most recent call last)",
      "\u001b[0;32m~/anaconda3/envs/python3/lib/python3.6/site-packages/pandas/io/sql.py\u001b[0m in \u001b[0;36mexecute\u001b[0;34m(self, *args, **kwargs)\u001b[0m\n\u001b[1;32m   1434\u001b[0m             \u001b[0;32mtry\u001b[0m\u001b[0;34m:\u001b[0m\u001b[0;34m\u001b[0m\u001b[0m\n\u001b[0;32m-> 1435\u001b[0;31m                 \u001b[0mself\u001b[0m\u001b[0;34m.\u001b[0m\u001b[0mcon\u001b[0m\u001b[0;34m.\u001b[0m\u001b[0mrollback\u001b[0m\u001b[0;34m(\u001b[0m\u001b[0;34m)\u001b[0m\u001b[0;34m\u001b[0m\u001b[0m\n\u001b[0m\u001b[1;32m   1436\u001b[0m             \u001b[0;32mexcept\u001b[0m \u001b[0mException\u001b[0m\u001b[0;34m:\u001b[0m  \u001b[0;31m# pragma: no cover\u001b[0m\u001b[0;34m\u001b[0m\u001b[0m\n",
      "\u001b[0;32m~/anaconda3/envs/python3/lib/python3.6/site-packages/pyathena/connection.py\u001b[0m in \u001b[0;36mrollback\u001b[0;34m(self)\u001b[0m\n\u001b[1;32m    155\u001b[0m     \u001b[0;32mdef\u001b[0m \u001b[0mrollback\u001b[0m\u001b[0;34m(\u001b[0m\u001b[0mself\u001b[0m\u001b[0;34m)\u001b[0m\u001b[0;34m:\u001b[0m\u001b[0;34m\u001b[0m\u001b[0m\n\u001b[0;32m--> 156\u001b[0;31m         \u001b[0;32mraise\u001b[0m \u001b[0mNotSupportedError\u001b[0m\u001b[0;34m\u001b[0m\u001b[0m\n\u001b[0m",
      "\u001b[0;31mNotSupportedError\u001b[0m: ",
      "\nDuring handling of the above exception, another exception occurred:\n",
      "\u001b[0;31mDatabaseError\u001b[0m                             Traceback (most recent call last)",
      "\u001b[0;32m<ipython-input-6-47f03eb0a816>\u001b[0m in \u001b[0;36m<module>\u001b[0;34m()\u001b[0m\n\u001b[0;32m----> 1\u001b[0;31m \u001b[0mdf\u001b[0m \u001b[0;34m=\u001b[0m \u001b[0mpd\u001b[0m\u001b[0;34m.\u001b[0m\u001b[0mread_sql\u001b[0m\u001b[0;34m(\u001b[0m\u001b[0mcomorbidities_sql\u001b[0m\u001b[0;34m,\u001b[0m \u001b[0mathena\u001b[0m\u001b[0;34m)\u001b[0m\u001b[0;34m\u001b[0m\u001b[0m\n\u001b[0m",
      "\u001b[0;32m~/anaconda3/envs/python3/lib/python3.6/site-packages/pandas/io/sql.py\u001b[0m in \u001b[0;36mread_sql\u001b[0;34m(sql, con, index_col, coerce_float, params, parse_dates, columns, chunksize)\u001b[0m\n\u001b[1;32m    378\u001b[0m             \u001b[0msql\u001b[0m\u001b[0;34m,\u001b[0m \u001b[0mindex_col\u001b[0m\u001b[0;34m=\u001b[0m\u001b[0mindex_col\u001b[0m\u001b[0;34m,\u001b[0m \u001b[0mparams\u001b[0m\u001b[0;34m=\u001b[0m\u001b[0mparams\u001b[0m\u001b[0;34m,\u001b[0m\u001b[0;34m\u001b[0m\u001b[0m\n\u001b[1;32m    379\u001b[0m             \u001b[0mcoerce_float\u001b[0m\u001b[0;34m=\u001b[0m\u001b[0mcoerce_float\u001b[0m\u001b[0;34m,\u001b[0m \u001b[0mparse_dates\u001b[0m\u001b[0;34m=\u001b[0m\u001b[0mparse_dates\u001b[0m\u001b[0;34m,\u001b[0m\u001b[0;34m\u001b[0m\u001b[0m\n\u001b[0;32m--> 380\u001b[0;31m             chunksize=chunksize)\n\u001b[0m\u001b[1;32m    381\u001b[0m \u001b[0;34m\u001b[0m\u001b[0m\n\u001b[1;32m    382\u001b[0m     \u001b[0;32mtry\u001b[0m\u001b[0;34m:\u001b[0m\u001b[0;34m\u001b[0m\u001b[0m\n",
      "\u001b[0;32m~/anaconda3/envs/python3/lib/python3.6/site-packages/pandas/io/sql.py\u001b[0m in \u001b[0;36mread_query\u001b[0;34m(self, sql, index_col, coerce_float, params, parse_dates, chunksize)\u001b[0m\n\u001b[1;32m   1466\u001b[0m \u001b[0;34m\u001b[0m\u001b[0m\n\u001b[1;32m   1467\u001b[0m         \u001b[0margs\u001b[0m \u001b[0;34m=\u001b[0m \u001b[0m_convert_params\u001b[0m\u001b[0;34m(\u001b[0m\u001b[0msql\u001b[0m\u001b[0;34m,\u001b[0m \u001b[0mparams\u001b[0m\u001b[0;34m)\u001b[0m\u001b[0;34m\u001b[0m\u001b[0m\n\u001b[0;32m-> 1468\u001b[0;31m         \u001b[0mcursor\u001b[0m \u001b[0;34m=\u001b[0m \u001b[0mself\u001b[0m\u001b[0;34m.\u001b[0m\u001b[0mexecute\u001b[0m\u001b[0;34m(\u001b[0m\u001b[0;34m*\u001b[0m\u001b[0margs\u001b[0m\u001b[0;34m)\u001b[0m\u001b[0;34m\u001b[0m\u001b[0m\n\u001b[0m\u001b[1;32m   1469\u001b[0m         \u001b[0mcolumns\u001b[0m \u001b[0;34m=\u001b[0m \u001b[0;34m[\u001b[0m\u001b[0mcol_desc\u001b[0m\u001b[0;34m[\u001b[0m\u001b[0;36m0\u001b[0m\u001b[0;34m]\u001b[0m \u001b[0;32mfor\u001b[0m \u001b[0mcol_desc\u001b[0m \u001b[0;32min\u001b[0m \u001b[0mcursor\u001b[0m\u001b[0;34m.\u001b[0m\u001b[0mdescription\u001b[0m\u001b[0;34m]\u001b[0m\u001b[0;34m\u001b[0m\u001b[0m\n\u001b[1;32m   1470\u001b[0m \u001b[0;34m\u001b[0m\u001b[0m\n",
      "\u001b[0;32m~/anaconda3/envs/python3/lib/python3.6/site-packages/pandas/io/sql.py\u001b[0m in \u001b[0;36mexecute\u001b[0;34m(self, *args, **kwargs)\u001b[0m\n\u001b[1;32m   1438\u001b[0m                     \u001b[0;34m\"Execution failed on sql: {sql}\\n{exc}\\nunable \"\u001b[0m\u001b[0;34m\u001b[0m\u001b[0m\n\u001b[1;32m   1439\u001b[0m                     \"to rollback\".format(sql=args[0], exc=exc))\n\u001b[0;32m-> 1440\u001b[0;31m                 \u001b[0mraise_with_traceback\u001b[0m\u001b[0;34m(\u001b[0m\u001b[0mex\u001b[0m\u001b[0;34m)\u001b[0m\u001b[0;34m\u001b[0m\u001b[0m\n\u001b[0m\u001b[1;32m   1441\u001b[0m \u001b[0;34m\u001b[0m\u001b[0m\n\u001b[1;32m   1442\u001b[0m             ex = DatabaseError(\n",
      "\u001b[0;32m~/anaconda3/envs/python3/lib/python3.6/site-packages/pandas/compat/__init__.py\u001b[0m in \u001b[0;36mraise_with_traceback\u001b[0;34m(exc, traceback)\u001b[0m\n\u001b[1;32m    418\u001b[0m         \u001b[0;32mif\u001b[0m \u001b[0mtraceback\u001b[0m \u001b[0;34m==\u001b[0m \u001b[0mEllipsis\u001b[0m\u001b[0;34m:\u001b[0m\u001b[0;34m\u001b[0m\u001b[0m\n\u001b[1;32m    419\u001b[0m             \u001b[0m_\u001b[0m\u001b[0;34m,\u001b[0m \u001b[0m_\u001b[0m\u001b[0;34m,\u001b[0m \u001b[0mtraceback\u001b[0m \u001b[0;34m=\u001b[0m \u001b[0msys\u001b[0m\u001b[0;34m.\u001b[0m\u001b[0mexc_info\u001b[0m\u001b[0;34m(\u001b[0m\u001b[0;34m)\u001b[0m\u001b[0;34m\u001b[0m\u001b[0m\n\u001b[0;32m--> 420\u001b[0;31m         \u001b[0;32mraise\u001b[0m \u001b[0mexc\u001b[0m\u001b[0;34m.\u001b[0m\u001b[0mwith_traceback\u001b[0m\u001b[0;34m(\u001b[0m\u001b[0mtraceback\u001b[0m\u001b[0;34m)\u001b[0m\u001b[0;34m\u001b[0m\u001b[0m\n\u001b[0m\u001b[1;32m    421\u001b[0m \u001b[0;32melse\u001b[0m\u001b[0;34m:\u001b[0m\u001b[0;34m\u001b[0m\u001b[0m\n\u001b[1;32m    422\u001b[0m     \u001b[0;31m# this version of raise is a syntax error in Python 3\u001b[0m\u001b[0;34m\u001b[0m\u001b[0;34m\u001b[0m\u001b[0m\n",
      "\u001b[0;32m~/anaconda3/envs/python3/lib/python3.6/site-packages/pandas/io/sql.py\u001b[0m in \u001b[0;36mexecute\u001b[0;34m(self, *args, **kwargs)\u001b[0m\n\u001b[1;32m   1433\u001b[0m         \u001b[0;32mexcept\u001b[0m \u001b[0mException\u001b[0m \u001b[0;32mas\u001b[0m \u001b[0mexc\u001b[0m\u001b[0;34m:\u001b[0m\u001b[0;34m\u001b[0m\u001b[0m\n\u001b[1;32m   1434\u001b[0m             \u001b[0;32mtry\u001b[0m\u001b[0;34m:\u001b[0m\u001b[0;34m\u001b[0m\u001b[0m\n\u001b[0;32m-> 1435\u001b[0;31m                 \u001b[0mself\u001b[0m\u001b[0;34m.\u001b[0m\u001b[0mcon\u001b[0m\u001b[0;34m.\u001b[0m\u001b[0mrollback\u001b[0m\u001b[0;34m(\u001b[0m\u001b[0;34m)\u001b[0m\u001b[0;34m\u001b[0m\u001b[0m\n\u001b[0m\u001b[1;32m   1436\u001b[0m             \u001b[0;32mexcept\u001b[0m \u001b[0mException\u001b[0m\u001b[0;34m:\u001b[0m  \u001b[0;31m# pragma: no cover\u001b[0m\u001b[0;34m\u001b[0m\u001b[0m\n\u001b[1;32m   1437\u001b[0m                 ex = DatabaseError(\n",
      "\u001b[0;32m~/anaconda3/envs/python3/lib/python3.6/site-packages/pyathena/connection.py\u001b[0m in \u001b[0;36mrollback\u001b[0;34m(self)\u001b[0m\n\u001b[1;32m    154\u001b[0m \u001b[0;34m\u001b[0m\u001b[0m\n\u001b[1;32m    155\u001b[0m     \u001b[0;32mdef\u001b[0m \u001b[0mrollback\u001b[0m\u001b[0;34m(\u001b[0m\u001b[0mself\u001b[0m\u001b[0;34m)\u001b[0m\u001b[0;34m:\u001b[0m\u001b[0;34m\u001b[0m\u001b[0m\n\u001b[0;32m--> 156\u001b[0;31m         \u001b[0;32mraise\u001b[0m \u001b[0mNotSupportedError\u001b[0m\u001b[0;34m\u001b[0m\u001b[0m\n\u001b[0m",
      "\u001b[0;31mDatabaseError\u001b[0m: Execution failed on sql: WITH \nicd9_mapping AS (\n  SELECT \n  subject_id,\n  bool_or(icd9_code IN ('10000')) AS chroniccard_mhyn,\n  bool_or(icd9_code IN ('10000')) AS chronicpul_mhyn,\n  bool_or(icd9_code IN ('10000')) AS asthma_mhyn,\n  bool_or(icd9_code IN ('10000')) AS renal_mhyn,\n  bool_or(icd9_code IN ('10000')) AS modliver_mhyn,\n  bool_or(icd9_code IN ('10000')) AS mildliv_mhyn,\n  bool_or(icd9_code IN ('10000')) AS chronicneu_mhyn,\n  bool_or(icd9_code IN ('10000')) AS malignantneo_mhyn,\n  bool_or(icd9_code IN ('10000')) AS chronhaemo_mhyn,\n  bool_or(icd9_code IN ('10000')) AS aidshiv_mhyn,\n  bool_or(icd9_code IN ('10000')) AS obesity_mhyn,\n  bool_or(icd9_code IN ('10000')) AS diabetiscomp_mhyn,\n  bool_or(icd9_code IN ('10000')) AS diabetes_mhyn,\n  bool_or(icd9_code IN ('10000')) AS rheumatology_mhyr,\n  bool_or(icd9_code IN ('10000')) AS dementia_mhyn,\n  bool_or(icd9_code IN ('10000')) AS malnutrition_mhyn,\n  bool_or(icd9_code IN ('3051')) AS smoker,\n  bool_or(icd9_code IN ('V1582')) AS former_smoker,\n  bool_or(icd9_code NOT IN ('10000', '10000', '10000', '10000', '10000', '10000', '10000', '10000', '10000', '10000', '10000', '10000', '10000', '10000', '10000', '10000', '3051', 'V1582')) AS other_mhyn,\n  filter(array_agg(icd9_code), x -> x NOT IN ('10000', '10000', '10000', '10000', '10000', '10000', '10000', '10000', '10000', '10000', '10000', '10000', '10000', '10000', '10000', '10000', '3051', 'V1582')) AS otherrisktext\n  FROM diagnoses_icd\n  GROUP BY subject_id\n),\ncomorbidities AS (\n  SELECT \n  subject_id, chroniccard_mhyn, chronicpul_mhyn, asthma_mhyn, renal_mhyn, modliver_mhyn, mildliv_mhyn, chronicneu_mhyn, malignantneo_mhyn, chronhaemo_mhyn, aidshiv_mhyn, obesity_mhyn, diabetiscomp_mhyn, diabetes_mhyn, rheumatology_mhyr, dementia_mhyn, malnutrition_mhyn, other_mhyn,\n  CASE\n    WHEN smoker = true THEN 1\n    WHEN former_smoker = true THEN 3\n    ELSE 2\n  END AS smoking_mhynfrom,\n  otherrisktext      \n  FROM icd9_mapping\n)\nSELECT * from comorbidities\nSYNTAX_ERROR: line 25:8: Table awsdatacatalog.default.diagnoses_icd does not exist\nunable to rollback"
     ]
    }
   ],
   "source": [
    "df = pd.read_sql(comorbidities_sql, athena)"
   ]
  },
  {
   "cell_type": "code",
   "execution_count": null,
   "metadata": {},
   "outputs": [],
   "source": []
  }
 ],
 "metadata": {
  "kernelspec": {
   "display_name": "conda_python3",
   "language": "python",
   "name": "conda_python3"
  },
  "language_info": {
   "codemirror_mode": {
    "name": "ipython",
    "version": 3
   },
   "file_extension": ".py",
   "mimetype": "text/x-python",
   "name": "python",
   "nbconvert_exporter": "python",
   "pygments_lexer": "ipython3",
   "version": "3.6.5"
  }
 },
 "nbformat": 4,
 "nbformat_minor": 4
}
